{
 "cells": [
  {
   "cell_type": "code",
   "execution_count": 1,
   "metadata": {},
   "outputs": [],
   "source": [
    "import pandas as pd\n",
    "import numpy as np\n",
    "\n",
    "from glob import glob"
   ]
  },
  {
   "cell_type": "code",
   "execution_count": 71,
   "metadata": {},
   "outputs": [],
   "source": [
    "csv_files1 = glob('./lstm/*.csv')\n",
    "csv_files2 = glob('./longformer/*.csv')\n",
    "csv_files3 = glob('./large/*.csv')\n",
    "csv_files = csv_files1 + csv_files2# + csv_files3"
   ]
  },
  {
   "cell_type": "code",
   "execution_count": 128,
   "metadata": {},
   "outputs": [],
   "source": [
    "csv_files = glob('./ensembled/*.csv')"
   ]
  },
  {
   "cell_type": "code",
   "execution_count": 44,
   "metadata": {},
   "outputs": [],
   "source": [
    "for f in csv_files[:]:\n",
    "    if 'xlm' in f or 'soddokayo' in f:\n",
    "        csv_files.remove(f)"
   ]
  },
  {
   "cell_type": "code",
   "execution_count": 131,
   "metadata": {},
   "outputs": [
    {
     "data": {
      "text/plain": [
       "['./ensembled/lstm4+longformer_mean_weighted_ensembled.csv',\n",
       " './ensembled/klue+nlpotato+soddoko+xlm_all_weighted_ensembled.csv']"
      ]
     },
     "execution_count": 131,
     "metadata": {},
     "output_type": "execute_result"
    }
   ],
   "source": [
    "csv_files"
   ]
  },
  {
   "cell_type": "code",
   "execution_count": 4,
   "metadata": {},
   "outputs": [],
   "source": [
    "sum_weight = sum([3, 2, 2, 1.5, 1.5])\n",
    "\n",
    "weight_dict = {\n",
    "    'lstm':3/sum_weight,\n",
    "    'klue':2/sum_weight,\n",
    "    'nlpotato':2/sum_weight,\n",
    "    'soddokayo':1.5/sum_weight,\n",
    "    'xlm':1.5/sum_weight,\n",
    "}\n",
    "\n",
    "# sum_weight = np.exp([71.6550, 73.2132, 73.1156]).sum()\n",
    "\n",
    "# weight_dict = {\n",
    "#     'klue':np.exp(73.1156)/sum_weight,\n",
    "#     'nlpotato':np.exp(73.2132)/sum_weight,\n",
    "#     'soddokayo':np.exp(71.6550)/sum_weight,\n",
    "#     # 'xlm':np.exp(70.1203)/sum_weight,\n",
    "# }\n",
    "\n",
    "file_counts = {\n",
    "    'lstm':3,\n",
    "    'klue':3,\n",
    "    'nlpotato':3,\n",
    "    'soddokayo':5,\n",
    "    'xlm':3,\n",
    "}\n",
    "\n",
    "weights = [0] * len(csv_files)\n",
    "\n",
    "# for i, file in enumerate(csv_files):\n",
    "#     for key, value in weight_dict.items():\n",
    "#         if key in file:\n",
    "#             weights[i] = value/file_counts[key]"
   ]
  },
  {
   "cell_type": "code",
   "execution_count": 5,
   "metadata": {},
   "outputs": [
    {
     "data": {
      "text/plain": [
       "0.9999999999999999"
      ]
     },
     "execution_count": 5,
     "metadata": {},
     "output_type": "execute_result"
    }
   ],
   "source": [
    "sum(weights)"
   ]
  },
  {
   "cell_type": "code",
   "execution_count": 6,
   "metadata": {},
   "outputs": [
    {
     "data": {
      "text/plain": [
       "[0.13333333333333333,\n",
       " 0.13333333333333333,\n",
       " 0.13333333333333333,\n",
       " 0.06666666666666667,\n",
       " 0.06666666666666667,\n",
       " 0.06666666666666667,\n",
       " 0.13333333333333333,\n",
       " 0.13333333333333333,\n",
       " 0.13333333333333333]"
      ]
     },
     "execution_count": 6,
     "metadata": {},
     "output_type": "execute_result"
    }
   ],
   "source": [
    "weights"
   ]
  },
  {
   "cell_type": "code",
   "execution_count": 130,
   "metadata": {},
   "outputs": [],
   "source": [
    "weights = [0.65, 0.35]"
   ]
  },
  {
   "cell_type": "code",
   "execution_count": 132,
   "metadata": {},
   "outputs": [],
   "source": [
    "pds = [pd.read_csv(csv) for csv in csv_files]"
   ]
  },
  {
   "cell_type": "markdown",
   "metadata": {},
   "source": [
    "## analysis"
   ]
  },
  {
   "cell_type": "code",
   "execution_count": 98,
   "metadata": {},
   "outputs": [],
   "source": [
    "for i in range(len(pds)):\n",
    "    pds[i][f'pred_label{i}'] = pds[i]['pred_label']"
   ]
  },
  {
   "cell_type": "code",
   "execution_count": 100,
   "metadata": {},
   "outputs": [],
   "source": [
    "sentences = pd.read_csv('../dataset/test/test_data.csv')"
   ]
  },
  {
   "cell_type": "code",
   "execution_count": 101,
   "metadata": {},
   "outputs": [],
   "source": [
    "df_cat = pd.concat([sentences]+[x[f'pred_label{i}'] for i, x in enumerate(pds)], axis=1)"
   ]
  },
  {
   "cell_type": "code",
   "execution_count": 103,
   "metadata": {},
   "outputs": [
    {
     "data": {
      "text/html": [
       "<div>\n",
       "<style scoped>\n",
       "    .dataframe tbody tr th:only-of-type {\n",
       "        vertical-align: middle;\n",
       "    }\n",
       "\n",
       "    .dataframe tbody tr th {\n",
       "        vertical-align: top;\n",
       "    }\n",
       "\n",
       "    .dataframe thead th {\n",
       "        text-align: right;\n",
       "    }\n",
       "</style>\n",
       "<table border=\"1\" class=\"dataframe\">\n",
       "  <thead>\n",
       "    <tr style=\"text-align: right;\">\n",
       "      <th></th>\n",
       "      <th>id</th>\n",
       "      <th>sentence</th>\n",
       "      <th>subject_entity</th>\n",
       "      <th>object_entity</th>\n",
       "      <th>label</th>\n",
       "      <th>source</th>\n",
       "      <th>pred_label0</th>\n",
       "      <th>pred_label1</th>\n",
       "      <th>pred_label2</th>\n",
       "      <th>pred_label3</th>\n",
       "    </tr>\n",
       "  </thead>\n",
       "  <tbody>\n",
       "    <tr>\n",
       "      <th>0</th>\n",
       "      <td>0</td>\n",
       "      <td>지난 15일 MBC '탐사기획 스트레이트'가 이 사실을 보도했다.</td>\n",
       "      <td>{'word': 'MBC', 'start_idx': 7, 'end_idx': 9, ...</td>\n",
       "      <td>{'word': '탐사기획 스트레이트', 'start_idx': 12, 'end_i...</td>\n",
       "      <td>100</td>\n",
       "      <td>wikitree</td>\n",
       "      <td>no_relation</td>\n",
       "      <td>org:product</td>\n",
       "      <td>org:members</td>\n",
       "      <td>org:product</td>\n",
       "    </tr>\n",
       "    <tr>\n",
       "      <th>4</th>\n",
       "      <td>4</td>\n",
       "      <td>당시 민주당 이진련 시의원은 권영진 시장에게 \"긴급 생계자금을 왜 현금으로 지원하지...</td>\n",
       "      <td>{'word': '민주당', 'start_idx': 3, 'end_idx': 5, ...</td>\n",
       "      <td>{'word': '권영진', 'start_idx': 16, 'end_idx': 18...</td>\n",
       "      <td>100</td>\n",
       "      <td>wikitree</td>\n",
       "      <td>no_relation</td>\n",
       "      <td>no_relation</td>\n",
       "      <td>org:top_members/employees</td>\n",
       "      <td>no_relation</td>\n",
       "    </tr>\n",
       "    <tr>\n",
       "      <th>9</th>\n",
       "      <td>9</td>\n",
       "      <td>소련군에서 그의 이름도 중국식의 진지첸으로 조선인으로서의 정체성도 희박했다.</td>\n",
       "      <td>{'word': '소련군', 'start_idx': 0, 'end_idx': 2, ...</td>\n",
       "      <td>{'word': '진지첸', 'start_idx': 18, 'end_idx': 20...</td>\n",
       "      <td>100</td>\n",
       "      <td>wikipedia</td>\n",
       "      <td>org:top_members/employees</td>\n",
       "      <td>org:top_members/employees</td>\n",
       "      <td>org:alternate_names</td>\n",
       "      <td>org:top_members/employees</td>\n",
       "    </tr>\n",
       "    <tr>\n",
       "      <th>11</th>\n",
       "      <td>11</td>\n",
       "      <td>그러나 1993년 김영삼 정권 출범 직후 안기부를 대대적으로 숙청하면서 미림팀은 폐...</td>\n",
       "      <td>{'word': '미림팀', 'start_idx': 40, 'end_idx': 42...</td>\n",
       "      <td>{'word': '1993년', 'start_idx': 4, 'end_idx': 8...</td>\n",
       "      <td>100</td>\n",
       "      <td>wikipedia</td>\n",
       "      <td>org:dissolved</td>\n",
       "      <td>no_relation</td>\n",
       "      <td>org:dissolved</td>\n",
       "      <td>org:dissolved</td>\n",
       "    </tr>\n",
       "    <tr>\n",
       "      <th>12</th>\n",
       "      <td>12</td>\n",
       "      <td>한편, 시는 3E 정책에 대한 아이디어가 있는 시민들은 누구나 정책을 제안 할 수 ...</td>\n",
       "      <td>{'word': '시', 'start_idx': 4, 'end_idx': 4, 't...</td>\n",
       "      <td>{'word': '3E', 'start_idx': 7, 'end_idx': 8, '...</td>\n",
       "      <td>100</td>\n",
       "      <td>wikitree</td>\n",
       "      <td>org:product</td>\n",
       "      <td>no_relation</td>\n",
       "      <td>no_relation</td>\n",
       "      <td>no_relation</td>\n",
       "    </tr>\n",
       "    <tr>\n",
       "      <th>...</th>\n",
       "      <td>...</td>\n",
       "      <td>...</td>\n",
       "      <td>...</td>\n",
       "      <td>...</td>\n",
       "      <td>...</td>\n",
       "      <td>...</td>\n",
       "      <td>...</td>\n",
       "      <td>...</td>\n",
       "      <td>...</td>\n",
       "      <td>...</td>\n",
       "    </tr>\n",
       "    <tr>\n",
       "      <th>7753</th>\n",
       "      <td>7753</td>\n",
       "      <td>미국군은 마지막 추축국인 일본의 본토에 무차별 야간 공습을 실시했다.</td>\n",
       "      <td>{'word': '미국군', 'start_idx': 0, 'end_idx': 2, ...</td>\n",
       "      <td>{'word': '일본', 'start_idx': 14, 'end_idx': 15,...</td>\n",
       "      <td>100</td>\n",
       "      <td>wikipedia</td>\n",
       "      <td>no_relation</td>\n",
       "      <td>no_relation</td>\n",
       "      <td>org:place_of_headquarters</td>\n",
       "      <td>no_relation</td>\n",
       "    </tr>\n",
       "    <tr>\n",
       "      <th>7754</th>\n",
       "      <td>7754</td>\n",
       "      <td>황병직(영주) 의원은 대구경북연구원의 규정을 위반한 직원평정과 이로 인한 성과급 과...</td>\n",
       "      <td>{'word': '황병직', 'start_idx': 0, 'end_idx': 2, ...</td>\n",
       "      <td>{'word': '영주', 'start_idx': 4, 'end_idx': 5, '...</td>\n",
       "      <td>100</td>\n",
       "      <td>wikitree</td>\n",
       "      <td>per:place_of_residence</td>\n",
       "      <td>per:employee_of</td>\n",
       "      <td>per:place_of_residence</td>\n",
       "      <td>per:place_of_residence</td>\n",
       "    </tr>\n",
       "    <tr>\n",
       "      <th>7755</th>\n",
       "      <td>7755</td>\n",
       "      <td>설리는 JTBC2 예능 프로그램 '악플의 밤'에서 MC로 출연 중이다.</td>\n",
       "      <td>{'word': '설리', 'start_idx': 0, 'end_idx': 1, '...</td>\n",
       "      <td>{'word': '악플의 밤', 'start_idx': 19, 'end_idx': ...</td>\n",
       "      <td>100</td>\n",
       "      <td>wikitree</td>\n",
       "      <td>no_relation</td>\n",
       "      <td>per:product</td>\n",
       "      <td>no_relation</td>\n",
       "      <td>no_relation</td>\n",
       "    </tr>\n",
       "    <tr>\n",
       "      <th>7758</th>\n",
       "      <td>7758</td>\n",
       "      <td>충용군이 경상도에서 머무른 지 한 달이 되자 군량 부족에 시달린다.</td>\n",
       "      <td>{'word': '충용군', 'start_idx': 0, 'end_idx': 2, ...</td>\n",
       "      <td>{'word': '경상도', 'start_idx': 5, 'end_idx': 7, ...</td>\n",
       "      <td>100</td>\n",
       "      <td>wikipedia</td>\n",
       "      <td>no_relation</td>\n",
       "      <td>no_relation</td>\n",
       "      <td>per:place_of_residence</td>\n",
       "      <td>per:place_of_residence</td>\n",
       "    </tr>\n",
       "    <tr>\n",
       "      <th>7759</th>\n",
       "      <td>7759</td>\n",
       "      <td>블랙 위도우와 함께 '레드룸 프로젝트'를 막기 위해 합류하는 레드 가디언은 드라마 ...</td>\n",
       "      <td>{'word': '짐 호퍼', 'start_idx': 61, 'end_idx': 6...</td>\n",
       "      <td>{'word': '경찰', 'start_idx': 56, 'end_idx': 57,...</td>\n",
       "      <td>100</td>\n",
       "      <td>wikitree</td>\n",
       "      <td>per:employee_of</td>\n",
       "      <td>per:title</td>\n",
       "      <td>per:employee_of</td>\n",
       "      <td>per:title</td>\n",
       "    </tr>\n",
       "  </tbody>\n",
       "</table>\n",
       "<p>2086 rows × 10 columns</p>\n",
       "</div>"
      ],
      "text/plain": [
       "        id                                           sentence  \\\n",
       "0        0               지난 15일 MBC '탐사기획 스트레이트'가 이 사실을 보도했다.   \n",
       "4        4  당시 민주당 이진련 시의원은 권영진 시장에게 \"긴급 생계자금을 왜 현금으로 지원하지...   \n",
       "9        9         소련군에서 그의 이름도 중국식의 진지첸으로 조선인으로서의 정체성도 희박했다.   \n",
       "11      11  그러나 1993년 김영삼 정권 출범 직후 안기부를 대대적으로 숙청하면서 미림팀은 폐...   \n",
       "12      12  한편, 시는 3E 정책에 대한 아이디어가 있는 시민들은 누구나 정책을 제안 할 수 ...   \n",
       "...    ...                                                ...   \n",
       "7753  7753             미국군은 마지막 추축국인 일본의 본토에 무차별 야간 공습을 실시했다.   \n",
       "7754  7754  황병직(영주) 의원은 대구경북연구원의 규정을 위반한 직원평정과 이로 인한 성과급 과...   \n",
       "7755  7755            설리는 JTBC2 예능 프로그램 '악플의 밤'에서 MC로 출연 중이다.   \n",
       "7758  7758              충용군이 경상도에서 머무른 지 한 달이 되자 군량 부족에 시달린다.   \n",
       "7759  7759  블랙 위도우와 함께 '레드룸 프로젝트'를 막기 위해 합류하는 레드 가디언은 드라마 ...   \n",
       "\n",
       "                                         subject_entity  \\\n",
       "0     {'word': 'MBC', 'start_idx': 7, 'end_idx': 9, ...   \n",
       "4     {'word': '민주당', 'start_idx': 3, 'end_idx': 5, ...   \n",
       "9     {'word': '소련군', 'start_idx': 0, 'end_idx': 2, ...   \n",
       "11    {'word': '미림팀', 'start_idx': 40, 'end_idx': 42...   \n",
       "12    {'word': '시', 'start_idx': 4, 'end_idx': 4, 't...   \n",
       "...                                                 ...   \n",
       "7753  {'word': '미국군', 'start_idx': 0, 'end_idx': 2, ...   \n",
       "7754  {'word': '황병직', 'start_idx': 0, 'end_idx': 2, ...   \n",
       "7755  {'word': '설리', 'start_idx': 0, 'end_idx': 1, '...   \n",
       "7758  {'word': '충용군', 'start_idx': 0, 'end_idx': 2, ...   \n",
       "7759  {'word': '짐 호퍼', 'start_idx': 61, 'end_idx': 6...   \n",
       "\n",
       "                                          object_entity  label     source  \\\n",
       "0     {'word': '탐사기획 스트레이트', 'start_idx': 12, 'end_i...    100   wikitree   \n",
       "4     {'word': '권영진', 'start_idx': 16, 'end_idx': 18...    100   wikitree   \n",
       "9     {'word': '진지첸', 'start_idx': 18, 'end_idx': 20...    100  wikipedia   \n",
       "11    {'word': '1993년', 'start_idx': 4, 'end_idx': 8...    100  wikipedia   \n",
       "12    {'word': '3E', 'start_idx': 7, 'end_idx': 8, '...    100   wikitree   \n",
       "...                                                 ...    ...        ...   \n",
       "7753  {'word': '일본', 'start_idx': 14, 'end_idx': 15,...    100  wikipedia   \n",
       "7754  {'word': '영주', 'start_idx': 4, 'end_idx': 5, '...    100   wikitree   \n",
       "7755  {'word': '악플의 밤', 'start_idx': 19, 'end_idx': ...    100   wikitree   \n",
       "7758  {'word': '경상도', 'start_idx': 5, 'end_idx': 7, ...    100  wikipedia   \n",
       "7759  {'word': '경찰', 'start_idx': 56, 'end_idx': 57,...    100   wikitree   \n",
       "\n",
       "                    pred_label0                pred_label1  \\\n",
       "0                   no_relation                org:product   \n",
       "4                   no_relation                no_relation   \n",
       "9     org:top_members/employees  org:top_members/employees   \n",
       "11                org:dissolved                no_relation   \n",
       "12                  org:product                no_relation   \n",
       "...                         ...                        ...   \n",
       "7753                no_relation                no_relation   \n",
       "7754     per:place_of_residence            per:employee_of   \n",
       "7755                no_relation                per:product   \n",
       "7758                no_relation                no_relation   \n",
       "7759            per:employee_of                  per:title   \n",
       "\n",
       "                    pred_label2                pred_label3  \n",
       "0                   org:members                org:product  \n",
       "4     org:top_members/employees                no_relation  \n",
       "9           org:alternate_names  org:top_members/employees  \n",
       "11                org:dissolved              org:dissolved  \n",
       "12                  no_relation                no_relation  \n",
       "...                         ...                        ...  \n",
       "7753  org:place_of_headquarters                no_relation  \n",
       "7754     per:place_of_residence     per:place_of_residence  \n",
       "7755                no_relation                no_relation  \n",
       "7758     per:place_of_residence     per:place_of_residence  \n",
       "7759            per:employee_of                  per:title  \n",
       "\n",
       "[2086 rows x 10 columns]"
      ]
     },
     "execution_count": 103,
     "metadata": {},
     "output_type": "execute_result"
    }
   ],
   "source": [
    "df_cat[(df_cat.pred_label0 != df_cat.pred_label1) | (df_cat.pred_label1 != df_cat.pred_label2) | (df_cat.pred_label2 != df_cat.pred_label3)]"
   ]
  },
  {
   "cell_type": "markdown",
   "metadata": {},
   "source": [
    "## soft vote"
   ]
  },
  {
   "cell_type": "code",
   "execution_count": 133,
   "metadata": {},
   "outputs": [],
   "source": [
    "test_data = pd.read_csv('../dataset/test/test_data.csv')"
   ]
  },
  {
   "cell_type": "code",
   "execution_count": 122,
   "metadata": {},
   "outputs": [],
   "source": [
    "probs = [x.probs.apply(eval).to_list() for x in pds]\n",
    "probs = [np.array(x) for x in probs]\n",
    "probs = np.array(probs)\n",
    "probs = probs.mean(axis=0)"
   ]
  },
  {
   "cell_type": "code",
   "execution_count": 134,
   "metadata": {},
   "outputs": [],
   "source": [
    "probs = [x.probs.apply(eval).to_list() for x in pds]\n",
    "probs = [np.array(x) for x in probs]\n",
    "probs = np.array(probs)\n",
    "\n",
    "for i, w in enumerate(weights):\n",
    "    probs[i] *= w\n",
    "\n",
    "probs = probs.sum(axis=0)"
   ]
  },
  {
   "cell_type": "code",
   "execution_count": 135,
   "metadata": {},
   "outputs": [],
   "source": [
    "import pickle\n",
    "\n",
    "def num_to_label(label):\n",
    "    \"\"\"\n",
    "    숫자로 되어 있던 class를 원본 문자열 라벨로 변환 합니다.\n",
    "    \"\"\"\n",
    "    origin_label = []\n",
    "    with open('dict_num_to_label.pkl', 'rb') as f:\n",
    "        dict_num_to_label = pickle.load(f)\n",
    "    for v in label:\n",
    "        origin_label.append(dict_num_to_label[v])\n",
    "\n",
    "    return origin_label\n",
    "\n",
    "label = num_to_label(probs.argmax(-1))"
   ]
  },
  {
   "cell_type": "code",
   "execution_count": 136,
   "metadata": {},
   "outputs": [],
   "source": [
    "sub = pd.read_csv('../prediction/sample_submission.csv')\n",
    "sub['pred_label'] = label\n",
    "sub['probs'] = list(probs)"
   ]
  },
  {
   "cell_type": "code",
   "execution_count": 86,
   "metadata": {},
   "outputs": [
    {
     "name": "stdout",
     "output_type": "stream",
     "text": [
      "./ensembled/klue+nlpotato+xlmtwitter+longformer_lstm_full_normal_ensembled.csv\n",
      "per:title\n",
      "{'word': '주', 'start_idx': 0, 'end_idx': 0, 'type': 'PER'}\n",
      "{'word': '의원', 'start_idx': 2, 'end_idx': 3, 'type': 'POH'}\n",
      "주 의원은 또한 Massport가 MBTA에서 페리를 인수 할 것을 제안했다.\n"
     ]
    }
   ],
   "source": [
    "i = 0\n",
    "idx = 1071\n",
    "print(csv_files[i])\n",
    "print(pds[i].loc[idx, 'pred_label'])\n",
    "print(test_data.loc[idx, 'subject_entity'])\n",
    "print(test_data.loc[idx, 'object_entity'])\n",
    "print(test_data.loc[idx,'sentence'])"
   ]
  },
  {
   "cell_type": "markdown",
   "metadata": {},
   "source": [
    "칼빈 어머니 -> 쟌느 르 프랑끄 -> 여인숙 주인\n",
    "여인숙 -> 깜브레"
   ]
  },
  {
   "cell_type": "code",
   "execution_count": null,
   "metadata": {},
   "outputs": [],
   "source": [
    "sub.pred_label.value_counts()"
   ]
  },
  {
   "cell_type": "code",
   "execution_count": 315,
   "metadata": {},
   "outputs": [
    {
     "data": {
      "text/plain": [
       "{'klue': 0.3354175860774975,\n",
       " 'nlpotato': 0.33586532577191514,\n",
       " 'soddokayo': 0.32871708815058737}"
      ]
     },
     "execution_count": 315,
     "metadata": {},
     "output_type": "execute_result"
    }
   ],
   "source": [
    "weight_dict"
   ]
  },
  {
   "cell_type": "code",
   "execution_count": 112,
   "metadata": {},
   "outputs": [
    {
     "data": {
      "text/html": [
       "<div>\n",
       "<style scoped>\n",
       "    .dataframe tbody tr th:only-of-type {\n",
       "        vertical-align: middle;\n",
       "    }\n",
       "\n",
       "    .dataframe tbody tr th {\n",
       "        vertical-align: top;\n",
       "    }\n",
       "\n",
       "    .dataframe thead th {\n",
       "        text-align: right;\n",
       "    }\n",
       "</style>\n",
       "<table border=\"1\" class=\"dataframe\">\n",
       "  <thead>\n",
       "    <tr style=\"text-align: right;\">\n",
       "      <th></th>\n",
       "      <th>id</th>\n",
       "      <th>pred_label</th>\n",
       "      <th>probs</th>\n",
       "    </tr>\n",
       "  </thead>\n",
       "  <tbody>\n",
       "    <tr>\n",
       "      <th>582</th>\n",
       "      <td>582</td>\n",
       "      <td>org:place_of_headquarters</td>\n",
       "      <td>[0.1325674604062813, 0.017192319261943454, 0.0...</td>\n",
       "    </tr>\n",
       "    <tr>\n",
       "      <th>1071</th>\n",
       "      <td>1071</td>\n",
       "      <td>per:title</td>\n",
       "      <td>[0.12311209848179366, 0.1080142394983677, 0.02...</td>\n",
       "    </tr>\n",
       "    <tr>\n",
       "      <th>5001</th>\n",
       "      <td>5001</td>\n",
       "      <td>no_relation</td>\n",
       "      <td>[0.2753118321427862, 0.0016589621077131853, 0....</td>\n",
       "    </tr>\n",
       "  </tbody>\n",
       "</table>\n",
       "</div>"
      ],
      "text/plain": [
       "        id                 pred_label  \\\n",
       "582    582  org:place_of_headquarters   \n",
       "1071  1071                  per:title   \n",
       "5001  5001                no_relation   \n",
       "\n",
       "                                                  probs  \n",
       "582   [0.1325674604062813, 0.017192319261943454, 0.0...  \n",
       "1071  [0.12311209848179366, 0.1080142394983677, 0.02...  \n",
       "5001  [0.2753118321427862, 0.0016589621077131853, 0....  "
      ]
     },
     "execution_count": 112,
     "metadata": {},
     "output_type": "execute_result"
    }
   ],
   "source": [
    "sub.loc[np.where(probs.std(axis=1)<0.07)[0]]"
   ]
  },
  {
   "cell_type": "code",
   "execution_count": 317,
   "metadata": {},
   "outputs": [
    {
     "data": {
      "text/html": [
       "<div>\n",
       "<style scoped>\n",
       "    .dataframe tbody tr th:only-of-type {\n",
       "        vertical-align: middle;\n",
       "    }\n",
       "\n",
       "    .dataframe tbody tr th {\n",
       "        vertical-align: top;\n",
       "    }\n",
       "\n",
       "    .dataframe thead th {\n",
       "        text-align: right;\n",
       "    }\n",
       "</style>\n",
       "<table border=\"1\" class=\"dataframe\">\n",
       "  <thead>\n",
       "    <tr style=\"text-align: right;\">\n",
       "      <th></th>\n",
       "      <th>id</th>\n",
       "      <th>pred_label</th>\n",
       "      <th>probs</th>\n",
       "    </tr>\n",
       "  </thead>\n",
       "  <tbody>\n",
       "    <tr>\n",
       "      <th>915</th>\n",
       "      <td>915</td>\n",
       "      <td>no_relation</td>\n",
       "      <td>[0.9949109852313995, 0.00041572650661692023, 0...</td>\n",
       "    </tr>\n",
       "    <tr>\n",
       "      <th>7421</th>\n",
       "      <td>7421</td>\n",
       "      <td>per:alternate_names</td>\n",
       "      <td>[0.00048530648443071794, 0.0001787140245141927...</td>\n",
       "    </tr>\n",
       "    <tr>\n",
       "      <th>1222</th>\n",
       "      <td>1222</td>\n",
       "      <td>org:members</td>\n",
       "      <td>[0.11722093168646097, 0.007509220828069374, 0....</td>\n",
       "    </tr>\n",
       "    <tr>\n",
       "      <th>3079</th>\n",
       "      <td>3079</td>\n",
       "      <td>no_relation</td>\n",
       "      <td>[0.9879991412162781, 0.00018576233621085217, 0...</td>\n",
       "    </tr>\n",
       "    <tr>\n",
       "      <th>751</th>\n",
       "      <td>751</td>\n",
       "      <td>no_relation</td>\n",
       "      <td>[0.47798822075128555, 0.0010386228483791153, 0...</td>\n",
       "    </tr>\n",
       "    <tr>\n",
       "      <th>7519</th>\n",
       "      <td>7519</td>\n",
       "      <td>no_relation</td>\n",
       "      <td>[0.640225683649381, 0.0008954699587775394, 0.0...</td>\n",
       "    </tr>\n",
       "    <tr>\n",
       "      <th>4487</th>\n",
       "      <td>4487</td>\n",
       "      <td>per:title</td>\n",
       "      <td>[0.006335496553219855, 0.0001210441817723525, ...</td>\n",
       "    </tr>\n",
       "    <tr>\n",
       "      <th>4810</th>\n",
       "      <td>4810</td>\n",
       "      <td>no_relation</td>\n",
       "      <td>[0.7378177841504415, 0.0007103665460211536, 0....</td>\n",
       "    </tr>\n",
       "    <tr>\n",
       "      <th>5819</th>\n",
       "      <td>5819</td>\n",
       "      <td>no_relation</td>\n",
       "      <td>[0.9827907383441925, 0.00015166810893182023, 0...</td>\n",
       "    </tr>\n",
       "    <tr>\n",
       "      <th>3111</th>\n",
       "      <td>3111</td>\n",
       "      <td>no_relation</td>\n",
       "      <td>[0.8995017309983572, 0.0006167003302834928, 0....</td>\n",
       "    </tr>\n",
       "  </tbody>\n",
       "</table>\n",
       "</div>"
      ],
      "text/plain": [
       "        id           pred_label  \\\n",
       "915    915          no_relation   \n",
       "7421  7421  per:alternate_names   \n",
       "1222  1222          org:members   \n",
       "3079  3079          no_relation   \n",
       "751    751          no_relation   \n",
       "7519  7519          no_relation   \n",
       "4487  4487            per:title   \n",
       "4810  4810          no_relation   \n",
       "5819  5819          no_relation   \n",
       "3111  3111          no_relation   \n",
       "\n",
       "                                                  probs  \n",
       "915   [0.9949109852313995, 0.00041572650661692023, 0...  \n",
       "7421  [0.00048530648443071794, 0.0001787140245141927...  \n",
       "1222  [0.11722093168646097, 0.007509220828069374, 0....  \n",
       "3079  [0.9879991412162781, 0.00018576233621085217, 0...  \n",
       "751   [0.47798822075128555, 0.0010386228483791153, 0...  \n",
       "7519  [0.640225683649381, 0.0008954699587775394, 0.0...  \n",
       "4487  [0.006335496553219855, 0.0001210441817723525, ...  \n",
       "4810  [0.7378177841504415, 0.0007103665460211536, 0....  \n",
       "5819  [0.9827907383441925, 0.00015166810893182023, 0...  \n",
       "3111  [0.8995017309983572, 0.0006167003302834928, 0....  "
      ]
     },
     "execution_count": 317,
     "metadata": {},
     "output_type": "execute_result"
    }
   ],
   "source": [
    "sub.sample(10)"
   ]
  },
  {
   "cell_type": "code",
   "execution_count": 113,
   "metadata": {},
   "outputs": [],
   "source": [
    "before = pd.read_csv('./before+lstm_ensemble_weighted_ensembled.csv')"
   ]
  },
  {
   "cell_type": "code",
   "execution_count": 114,
   "metadata": {},
   "outputs": [
    {
     "data": {
      "text/html": [
       "<div>\n",
       "<style scoped>\n",
       "    .dataframe tbody tr th:only-of-type {\n",
       "        vertical-align: middle;\n",
       "    }\n",
       "\n",
       "    .dataframe tbody tr th {\n",
       "        vertical-align: top;\n",
       "    }\n",
       "\n",
       "    .dataframe thead th {\n",
       "        text-align: right;\n",
       "    }\n",
       "</style>\n",
       "<table border=\"1\" class=\"dataframe\">\n",
       "  <thead>\n",
       "    <tr style=\"text-align: right;\">\n",
       "      <th></th>\n",
       "      <th>id</th>\n",
       "      <th>pred_label</th>\n",
       "      <th>probs</th>\n",
       "    </tr>\n",
       "  </thead>\n",
       "  <tbody>\n",
       "    <tr>\n",
       "      <th>535</th>\n",
       "      <td>535</td>\n",
       "      <td>per:origin</td>\n",
       "      <td>[0.3813691363359728, 0.00046440222084183965, 0...</td>\n",
       "    </tr>\n",
       "    <tr>\n",
       "      <th>652</th>\n",
       "      <td>652</td>\n",
       "      <td>no_relation</td>\n",
       "      <td>[0.49225539426348763, 0.00030024941189924127, ...</td>\n",
       "    </tr>\n",
       "    <tr>\n",
       "      <th>665</th>\n",
       "      <td>665</td>\n",
       "      <td>per:other_family</td>\n",
       "      <td>[0.013890221291561054, 0.00033530721567813303,...</td>\n",
       "    </tr>\n",
       "    <tr>\n",
       "      <th>703</th>\n",
       "      <td>703</td>\n",
       "      <td>no_relation</td>\n",
       "      <td>[0.568617736397916, 0.00027059106039974856, 0....</td>\n",
       "    </tr>\n",
       "    <tr>\n",
       "      <th>779</th>\n",
       "      <td>779</td>\n",
       "      <td>per:place_of_residence</td>\n",
       "      <td>[0.4544138246652895, 0.00037755115858711995, 0...</td>\n",
       "    </tr>\n",
       "    <tr>\n",
       "      <th>...</th>\n",
       "      <td>...</td>\n",
       "      <td>...</td>\n",
       "      <td>...</td>\n",
       "    </tr>\n",
       "    <tr>\n",
       "      <th>7458</th>\n",
       "      <td>7458</td>\n",
       "      <td>org:alternate_names</td>\n",
       "      <td>[0.09640079924413454, 0.0007973466352243167, 0...</td>\n",
       "    </tr>\n",
       "    <tr>\n",
       "      <th>7528</th>\n",
       "      <td>7528</td>\n",
       "      <td>no_relation</td>\n",
       "      <td>[0.5660135342253906, 0.00015717602063337134, 0...</td>\n",
       "    </tr>\n",
       "    <tr>\n",
       "      <th>7649</th>\n",
       "      <td>7649</td>\n",
       "      <td>per:origin</td>\n",
       "      <td>[0.10504139882953578, 0.0002208353860746611, 0...</td>\n",
       "    </tr>\n",
       "    <tr>\n",
       "      <th>7682</th>\n",
       "      <td>7682</td>\n",
       "      <td>org:place_of_headquarters</td>\n",
       "      <td>[0.42487836851938066, 0.00021886612621978486, ...</td>\n",
       "    </tr>\n",
       "    <tr>\n",
       "      <th>7695</th>\n",
       "      <td>7695</td>\n",
       "      <td>org:top_members/employees</td>\n",
       "      <td>[0.4095918971384387, 0.5714921773721574, 0.000...</td>\n",
       "    </tr>\n",
       "  </tbody>\n",
       "</table>\n",
       "<p>92 rows × 3 columns</p>\n",
       "</div>"
      ],
      "text/plain": [
       "        id                 pred_label  \\\n",
       "535    535                 per:origin   \n",
       "652    652                no_relation   \n",
       "665    665           per:other_family   \n",
       "703    703                no_relation   \n",
       "779    779     per:place_of_residence   \n",
       "...    ...                        ...   \n",
       "7458  7458        org:alternate_names   \n",
       "7528  7528                no_relation   \n",
       "7649  7649                 per:origin   \n",
       "7682  7682  org:place_of_headquarters   \n",
       "7695  7695  org:top_members/employees   \n",
       "\n",
       "                                                  probs  \n",
       "535   [0.3813691363359728, 0.00046440222084183965, 0...  \n",
       "652   [0.49225539426348763, 0.00030024941189924127, ...  \n",
       "665   [0.013890221291561054, 0.00033530721567813303,...  \n",
       "703   [0.568617736397916, 0.00027059106039974856, 0....  \n",
       "779   [0.4544138246652895, 0.00037755115858711995, 0...  \n",
       "...                                                 ...  \n",
       "7458  [0.09640079924413454, 0.0007973466352243167, 0...  \n",
       "7528  [0.5660135342253906, 0.00015717602063337134, 0...  \n",
       "7649  [0.10504139882953578, 0.0002208353860746611, 0...  \n",
       "7682  [0.42487836851938066, 0.00021886612621978486, ...  \n",
       "7695  [0.4095918971384387, 0.5714921773721574, 0.000...  \n",
       "\n",
       "[92 rows x 3 columns]"
      ]
     },
     "execution_count": 114,
     "metadata": {},
     "output_type": "execute_result"
    }
   ],
   "source": [
    "sub[before.pred_label != sub.pred_label]"
   ]
  },
  {
   "cell_type": "code",
   "execution_count": 137,
   "metadata": {},
   "outputs": [],
   "source": [
    "sub.probs = sub.probs.apply(list)"
   ]
  },
  {
   "cell_type": "code",
   "execution_count": 138,
   "metadata": {},
   "outputs": [
    {
     "data": {
      "text/html": [
       "<div>\n",
       "<style scoped>\n",
       "    .dataframe tbody tr th:only-of-type {\n",
       "        vertical-align: middle;\n",
       "    }\n",
       "\n",
       "    .dataframe tbody tr th {\n",
       "        vertical-align: top;\n",
       "    }\n",
       "\n",
       "    .dataframe thead th {\n",
       "        text-align: right;\n",
       "    }\n",
       "</style>\n",
       "<table border=\"1\" class=\"dataframe\">\n",
       "  <thead>\n",
       "    <tr style=\"text-align: right;\">\n",
       "      <th></th>\n",
       "      <th>id</th>\n",
       "      <th>pred_label</th>\n",
       "      <th>probs</th>\n",
       "    </tr>\n",
       "  </thead>\n",
       "  <tbody>\n",
       "    <tr>\n",
       "      <th>0</th>\n",
       "      <td>0</td>\n",
       "      <td>org:product</td>\n",
       "      <td>[0.0808280590550896, 0.003572964839177585, 0.2...</td>\n",
       "    </tr>\n",
       "    <tr>\n",
       "      <th>1</th>\n",
       "      <td>1</td>\n",
       "      <td>per:alternate_names</td>\n",
       "      <td>[0.012499052718257004, 0.00025482196119383613,...</td>\n",
       "    </tr>\n",
       "    <tr>\n",
       "      <th>2</th>\n",
       "      <td>2</td>\n",
       "      <td>no_relation</td>\n",
       "      <td>[0.9982978714642048, 4.152079021186176e-05, 4....</td>\n",
       "    </tr>\n",
       "    <tr>\n",
       "      <th>3</th>\n",
       "      <td>3</td>\n",
       "      <td>no_relation</td>\n",
       "      <td>[0.8767223939917332, 0.0004712281025408531, 0....</td>\n",
       "    </tr>\n",
       "    <tr>\n",
       "      <th>4</th>\n",
       "      <td>4</td>\n",
       "      <td>no_relation</td>\n",
       "      <td>[0.7919464476410116, 0.19818309081487634, 0.00...</td>\n",
       "    </tr>\n",
       "    <tr>\n",
       "      <th>...</th>\n",
       "      <td>...</td>\n",
       "      <td>...</td>\n",
       "      <td>...</td>\n",
       "    </tr>\n",
       "    <tr>\n",
       "      <th>7760</th>\n",
       "      <td>7760</td>\n",
       "      <td>org:place_of_headquarters</td>\n",
       "      <td>[0.14371133825426008, 0.0015863025707200762, 0...</td>\n",
       "    </tr>\n",
       "    <tr>\n",
       "      <th>7761</th>\n",
       "      <td>7761</td>\n",
       "      <td>no_relation</td>\n",
       "      <td>[0.99138398828447, 0.0003166008010071632, 0.00...</td>\n",
       "    </tr>\n",
       "    <tr>\n",
       "      <th>7762</th>\n",
       "      <td>7762</td>\n",
       "      <td>org:top_members/employees</td>\n",
       "      <td>[0.0001053890544502037, 0.9990859762409872, 3....</td>\n",
       "    </tr>\n",
       "    <tr>\n",
       "      <th>7763</th>\n",
       "      <td>7763</td>\n",
       "      <td>no_relation</td>\n",
       "      <td>[0.9104606631951317, 0.00023644081389918915, 0...</td>\n",
       "    </tr>\n",
       "    <tr>\n",
       "      <th>7764</th>\n",
       "      <td>7764</td>\n",
       "      <td>no_relation</td>\n",
       "      <td>[0.9953035973279902, 0.00013839915737571743, 4...</td>\n",
       "    </tr>\n",
       "  </tbody>\n",
       "</table>\n",
       "<p>7765 rows × 3 columns</p>\n",
       "</div>"
      ],
      "text/plain": [
       "        id                 pred_label  \\\n",
       "0        0                org:product   \n",
       "1        1        per:alternate_names   \n",
       "2        2                no_relation   \n",
       "3        3                no_relation   \n",
       "4        4                no_relation   \n",
       "...    ...                        ...   \n",
       "7760  7760  org:place_of_headquarters   \n",
       "7761  7761                no_relation   \n",
       "7762  7762  org:top_members/employees   \n",
       "7763  7763                no_relation   \n",
       "7764  7764                no_relation   \n",
       "\n",
       "                                                  probs  \n",
       "0     [0.0808280590550896, 0.003572964839177585, 0.2...  \n",
       "1     [0.012499052718257004, 0.00025482196119383613,...  \n",
       "2     [0.9982978714642048, 4.152079021186176e-05, 4....  \n",
       "3     [0.8767223939917332, 0.0004712281025408531, 0....  \n",
       "4     [0.7919464476410116, 0.19818309081487634, 0.00...  \n",
       "...                                                 ...  \n",
       "7760  [0.14371133825426008, 0.0015863025707200762, 0...  \n",
       "7761  [0.99138398828447, 0.0003166008010071632, 0.00...  \n",
       "7762  [0.0001053890544502037, 0.9990859762409872, 3....  \n",
       "7763  [0.9104606631951317, 0.00023644081389918915, 0...  \n",
       "7764  [0.9953035973279902, 0.00013839915737571743, 4...  \n",
       "\n",
       "[7765 rows x 3 columns]"
      ]
     },
     "execution_count": 138,
     "metadata": {},
     "output_type": "execute_result"
    }
   ],
   "source": [
    "sub"
   ]
  },
  {
   "cell_type": "code",
   "execution_count": 139,
   "metadata": {},
   "outputs": [],
   "source": [
    "sub.to_csv('./lstm4+longformer+ensemble_weighted_weighted_ensembled.csv', index=False)"
   ]
  },
  {
   "cell_type": "markdown",
   "metadata": {},
   "source": [
    "## 분섟"
   ]
  },
  {
   "cell_type": "code",
   "execution_count": 244,
   "metadata": {},
   "outputs": [],
   "source": [
    "import pandas as pd"
   ]
  },
  {
   "cell_type": "code",
   "execution_count": 246,
   "metadata": {},
   "outputs": [],
   "source": [
    "pred = pd.read_csv('../torch-train/outputs/20240117_103028_run_klue-roberta-large.csv')"
   ]
  },
  {
   "cell_type": "code",
   "execution_count": 249,
   "metadata": {},
   "outputs": [],
   "source": [
    "test_data.object_entity = test_data.object_entity.apply(eval)"
   ]
  },
  {
   "cell_type": "code",
   "execution_count": 260,
   "metadata": {},
   "outputs": [],
   "source": [
    "test_data['obj_type'] = test_data.object_entity.apply(dict.get, args=('type',))"
   ]
  },
  {
   "cell_type": "code",
   "execution_count": 263,
   "metadata": {},
   "outputs": [
    {
     "data": {
      "text/plain": [
       "Index([   2,   11,   13,   17,   44,   54,   58,   63,   66,   69,\n",
       "       ...\n",
       "       7670, 7673, 7694, 7701, 7730, 7738, 7747, 7761, 7763, 7764],\n",
       "      dtype='int64', length=790)"
      ]
     },
     "execution_count": 263,
     "metadata": {},
     "output_type": "execute_result"
    }
   ],
   "source": [
    "test_data[test_data['obj_type']=='DAT'].index"
   ]
  },
  {
   "cell_type": "code",
   "execution_count": 266,
   "metadata": {},
   "outputs": [],
   "source": [
    "pred1 = pred.loc[test_data[test_data['obj_type']=='DAT'].index]"
   ]
  },
  {
   "cell_type": "code",
   "execution_count": 275,
   "metadata": {},
   "outputs": [
    {
     "name": "stdout",
     "output_type": "stream",
     "text": [
      "예일 대학 교수 데이비드 비드니 (1908년 - 1987년)는 이것에 반대하고 있다.\n",
      "{'word': '데이비드 비드니', 'start_idx': 9, 'end_idx': 16, 'type': 'PER'}\n",
      "{'word': '1908년', 'start_idx': 19, 'end_idx': 23, 'type': 'DAT'}\n",
      "per:date_of_birth\n"
     ]
    }
   ],
   "source": [
    "i = 58\n",
    "print(test_data.loc[i,'sentence'])\n",
    "print(test_data.loc[i,'subject_entity'])\n",
    "print(test_data.loc[i,'object_entity'])\n",
    "print(pred1.loc[i, 'pred_label'])"
   ]
  },
  {
   "cell_type": "code",
   "execution_count": 268,
   "metadata": {},
   "outputs": [
    {
     "data": {
      "text/html": [
       "<div>\n",
       "<style scoped>\n",
       "    .dataframe tbody tr th:only-of-type {\n",
       "        vertical-align: middle;\n",
       "    }\n",
       "\n",
       "    .dataframe tbody tr th {\n",
       "        vertical-align: top;\n",
       "    }\n",
       "\n",
       "    .dataframe thead th {\n",
       "        text-align: right;\n",
       "    }\n",
       "</style>\n",
       "<table border=\"1\" class=\"dataframe\">\n",
       "  <thead>\n",
       "    <tr style=\"text-align: right;\">\n",
       "      <th></th>\n",
       "      <th>id</th>\n",
       "      <th>pred_label</th>\n",
       "      <th>probs</th>\n",
       "    </tr>\n",
       "  </thead>\n",
       "  <tbody>\n",
       "    <tr>\n",
       "      <th>11</th>\n",
       "      <td>11</td>\n",
       "      <td>org:dissolved</td>\n",
       "      <td>[0.0112584438174963, 0.0027699756901711226, 0....</td>\n",
       "    </tr>\n",
       "    <tr>\n",
       "      <th>58</th>\n",
       "      <td>58</td>\n",
       "      <td>per:date_of_birth</td>\n",
       "      <td>[0.0029821048956364393, 0.0017124142032116652,...</td>\n",
       "    </tr>\n",
       "    <tr>\n",
       "      <th>341</th>\n",
       "      <td>341</td>\n",
       "      <td>org:founded</td>\n",
       "      <td>[0.06511560082435608, 0.001736104371957481, 0....</td>\n",
       "    </tr>\n",
       "    <tr>\n",
       "      <th>415</th>\n",
       "      <td>415</td>\n",
       "      <td>org:founded</td>\n",
       "      <td>[0.006106287706643343, 0.0009918748401105404, ...</td>\n",
       "    </tr>\n",
       "    <tr>\n",
       "      <th>416</th>\n",
       "      <td>416</td>\n",
       "      <td>org:founded</td>\n",
       "      <td>[0.004689211957156658, 0.0011434544576331973, ...</td>\n",
       "    </tr>\n",
       "    <tr>\n",
       "      <th>...</th>\n",
       "      <td>...</td>\n",
       "      <td>...</td>\n",
       "      <td>...</td>\n",
       "    </tr>\n",
       "    <tr>\n",
       "      <th>7363</th>\n",
       "      <td>7363</td>\n",
       "      <td>per:origin</td>\n",
       "      <td>[0.011496126651763916, 0.0029759465251117945, ...</td>\n",
       "    </tr>\n",
       "    <tr>\n",
       "      <th>7456</th>\n",
       "      <td>7456</td>\n",
       "      <td>per:origin</td>\n",
       "      <td>[0.012351647019386292, 0.0060904002748429775, ...</td>\n",
       "    </tr>\n",
       "    <tr>\n",
       "      <th>7476</th>\n",
       "      <td>7476</td>\n",
       "      <td>per:date_of_birth</td>\n",
       "      <td>[0.018261084333062172, 0.0012017786502838135, ...</td>\n",
       "    </tr>\n",
       "    <tr>\n",
       "      <th>7665</th>\n",
       "      <td>7665</td>\n",
       "      <td>org:founded</td>\n",
       "      <td>[0.13151907920837402, 0.012071825563907623, 0....</td>\n",
       "    </tr>\n",
       "    <tr>\n",
       "      <th>7694</th>\n",
       "      <td>7694</td>\n",
       "      <td>per:date_of_death</td>\n",
       "      <td>[0.010507207363843918, 0.0026557855308055878, ...</td>\n",
       "    </tr>\n",
       "  </tbody>\n",
       "</table>\n",
       "<p>85 rows × 3 columns</p>\n",
       "</div>"
      ],
      "text/plain": [
       "        id         pred_label  \\\n",
       "11      11      org:dissolved   \n",
       "58      58  per:date_of_birth   \n",
       "341    341        org:founded   \n",
       "415    415        org:founded   \n",
       "416    416        org:founded   \n",
       "...    ...                ...   \n",
       "7363  7363         per:origin   \n",
       "7456  7456         per:origin   \n",
       "7476  7476  per:date_of_birth   \n",
       "7665  7665        org:founded   \n",
       "7694  7694  per:date_of_death   \n",
       "\n",
       "                                                  probs  \n",
       "11    [0.0112584438174963, 0.0027699756901711226, 0....  \n",
       "58    [0.0029821048956364393, 0.0017124142032116652,...  \n",
       "341   [0.06511560082435608, 0.001736104371957481, 0....  \n",
       "415   [0.006106287706643343, 0.0009918748401105404, ...  \n",
       "416   [0.004689211957156658, 0.0011434544576331973, ...  \n",
       "...                                                 ...  \n",
       "7363  [0.011496126651763916, 0.0029759465251117945, ...  \n",
       "7456  [0.012351647019386292, 0.0060904002748429775, ...  \n",
       "7476  [0.018261084333062172, 0.0012017786502838135, ...  \n",
       "7665  [0.13151907920837402, 0.012071825563907623, 0....  \n",
       "7694  [0.010507207363843918, 0.0026557855308055878, ...  \n",
       "\n",
       "[85 rows x 3 columns]"
      ]
     },
     "execution_count": 268,
     "metadata": {},
     "output_type": "execute_result"
    }
   ],
   "source": [
    "pred1[pred1.pred_label!='no_relation']"
   ]
  }
 ],
 "metadata": {
  "kernelspec": {
   "display_name": "base",
   "language": "python",
   "name": "python3"
  },
  "language_info": {
   "codemirror_mode": {
    "name": "ipython",
    "version": 3
   },
   "file_extension": ".py",
   "mimetype": "text/x-python",
   "name": "python",
   "nbconvert_exporter": "python",
   "pygments_lexer": "ipython3",
   "version": "3.8.5"
  }
 },
 "nbformat": 4,
 "nbformat_minor": 2
}

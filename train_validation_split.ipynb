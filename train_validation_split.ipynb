{
 "cells": [
  {
   "cell_type": "code",
   "execution_count": 2,
   "metadata": {},
   "outputs": [],
   "source": [
    "import pandas as pd \n",
    "from sklearn.model_selection import KFold"
   ]
  },
  {
   "cell_type": "markdown",
   "metadata": {},
   "source": [
    "# data load"
   ]
  },
  {
   "cell_type": "code",
   "execution_count": 3,
   "metadata": {},
   "outputs": [],
   "source": [
    "train = pd.read_csv('/data/ephemeral/home/level2_klue/KSY/data/train.csv')\n",
    "back = pd.read_csv('/data/ephemeral/home/level2_klue/KSY/data/back4.csv',index_col = 0)\n",
    "back = back.iloc[:,:6]"
   ]
  },
  {
   "cell_type": "code",
   "execution_count": 4,
   "metadata": {},
   "outputs": [],
   "source": [
    "train['증강 여부'] = False\n",
    "back['증강 여부'] = True"
   ]
  },
  {
   "cell_type": "code",
   "execution_count": 6,
   "metadata": {},
   "outputs": [
    {
     "data": {
      "text/html": [
       "<div>\n",
       "<style scoped>\n",
       "    .dataframe tbody tr th:only-of-type {\n",
       "        vertical-align: middle;\n",
       "    }\n",
       "\n",
       "    .dataframe tbody tr th {\n",
       "        vertical-align: top;\n",
       "    }\n",
       "\n",
       "    .dataframe thead th {\n",
       "        text-align: right;\n",
       "    }\n",
       "</style>\n",
       "<table border=\"1\" class=\"dataframe\">\n",
       "  <thead>\n",
       "    <tr style=\"text-align: right;\">\n",
       "      <th></th>\n",
       "      <th>id</th>\n",
       "      <th>sentence</th>\n",
       "      <th>subject_entity</th>\n",
       "      <th>object_entity</th>\n",
       "      <th>label</th>\n",
       "      <th>source</th>\n",
       "      <th>증강 여부</th>\n",
       "    </tr>\n",
       "  </thead>\n",
       "  <tbody>\n",
       "    <tr>\n",
       "      <th>33385</th>\n",
       "      <td>32320</td>\n",
       "      <td>칭기즈 칸, 보르지긴의 일족은 골든 클랜 (Altan Uruk)이라고 불리며, 이들...</td>\n",
       "      <td>{'word': '칭기즈 칸', 'start_idx': 0, 'end_idx': 4...</td>\n",
       "      <td>{'word': '보르지긴', 'start_idx': 11, 'end_idx': 1...</td>\n",
       "      <td>per:other_family</td>\n",
       "      <td>wikipedia</td>\n",
       "      <td>True</td>\n",
       "    </tr>\n",
       "    <tr>\n",
       "      <th>33386</th>\n",
       "      <td>32336</td>\n",
       "      <td>헨리 4세 헨리 5세의 아버지는 아들을 일찍 결혼하기 위해 마음을 만들고 있었지만 ...</td>\n",
       "      <td>{'word': '헨리 4세', 'start_idx': 12, 'end_idx': ...</td>\n",
       "      <td>{'word': '헨리 5세', 'start_idx': 0, 'end_idx': 4...</td>\n",
       "      <td>per:children</td>\n",
       "      <td>wikipedia</td>\n",
       "      <td>True</td>\n",
       "    </tr>\n",
       "    <tr>\n",
       "      <th>33387</th>\n",
       "      <td>32404</td>\n",
       "      <td>소냐 옐리치는 1965 년 뉴질랜드의 오클랜드 Dalmatia에서 이민 온 크로아티...</td>\n",
       "      <td>{'word': '소냐 옐리치', 'start_idx': 0, 'end_idx': ...</td>\n",
       "      <td>{'word': '뉴질랜드', 'start_idx': 14, 'end_idx': 1...</td>\n",
       "      <td>per:place_of_birth</td>\n",
       "      <td>wikipedia</td>\n",
       "      <td>True</td>\n",
       "    </tr>\n",
       "    <tr>\n",
       "      <th>33388</th>\n",
       "      <td>32433</td>\n",
       "      <td>2008 년 11 월 5 일, 드미트리 메드베데프 러시아 대통령은 발트해의 Kali...</td>\n",
       "      <td>{'word': '드미트리 메드베데프', 'start_idx': 14, 'end_i...</td>\n",
       "      <td>{'word': '러시아', 'start_idx': 25, 'end_idx': 27...</td>\n",
       "      <td>per:place_of_residence</td>\n",
       "      <td>wikipedia</td>\n",
       "      <td>True</td>\n",
       "    </tr>\n",
       "    <tr>\n",
       "      <th>33389</th>\n",
       "      <td>32463</td>\n",
       "      <td>그의 삼촌은 루이 13세이고 그녀의 남편 인 루이 14세는 사촌 형제가됩니다.</td>\n",
       "      <td>{'word': '루이 14세', 'start_idx': 21, 'end_idx':...</td>\n",
       "      <td>{'word': '루이 13세', 'start_idx': 8, 'end_idx': ...</td>\n",
       "      <td>per:other_family</td>\n",
       "      <td>wikipedia</td>\n",
       "      <td>True</td>\n",
       "    </tr>\n",
       "  </tbody>\n",
       "</table>\n",
       "</div>"
      ],
      "text/plain": [
       "          id                                           sentence  \\\n",
       "33385  32320  칭기즈 칸, 보르지긴의 일족은 골든 클랜 (Altan Uruk)이라고 불리며, 이들...   \n",
       "33386  32336  헨리 4세 헨리 5세의 아버지는 아들을 일찍 결혼하기 위해 마음을 만들고 있었지만 ...   \n",
       "33387  32404  소냐 옐리치는 1965 년 뉴질랜드의 오클랜드 Dalmatia에서 이민 온 크로아티...   \n",
       "33388  32433  2008 년 11 월 5 일, 드미트리 메드베데프 러시아 대통령은 발트해의 Kali...   \n",
       "33389  32463        그의 삼촌은 루이 13세이고 그녀의 남편 인 루이 14세는 사촌 형제가됩니다.   \n",
       "\n",
       "                                          subject_entity  \\\n",
       "33385  {'word': '칭기즈 칸', 'start_idx': 0, 'end_idx': 4...   \n",
       "33386  {'word': '헨리 4세', 'start_idx': 12, 'end_idx': ...   \n",
       "33387  {'word': '소냐 옐리치', 'start_idx': 0, 'end_idx': ...   \n",
       "33388  {'word': '드미트리 메드베데프', 'start_idx': 14, 'end_i...   \n",
       "33389  {'word': '루이 14세', 'start_idx': 21, 'end_idx':...   \n",
       "\n",
       "                                           object_entity  \\\n",
       "33385  {'word': '보르지긴', 'start_idx': 11, 'end_idx': 1...   \n",
       "33386  {'word': '헨리 5세', 'start_idx': 0, 'end_idx': 4...   \n",
       "33387  {'word': '뉴질랜드', 'start_idx': 14, 'end_idx': 1...   \n",
       "33388  {'word': '러시아', 'start_idx': 25, 'end_idx': 27...   \n",
       "33389  {'word': '루이 13세', 'start_idx': 8, 'end_idx': ...   \n",
       "\n",
       "                        label     source  증강 여부  \n",
       "33385        per:other_family  wikipedia   True  \n",
       "33386            per:children  wikipedia   True  \n",
       "33387      per:place_of_birth  wikipedia   True  \n",
       "33388  per:place_of_residence  wikipedia   True  \n",
       "33389        per:other_family  wikipedia   True  "
      ]
     },
     "execution_count": 6,
     "metadata": {},
     "output_type": "execute_result"
    }
   ],
   "source": [
    "df = pd.concat([train,back])\n",
    "df = df.reset_index(drop=True)\n",
    "df.tail()"
   ]
  },
  {
   "cell_type": "markdown",
   "metadata": {},
   "source": [
    "# data split"
   ]
  },
  {
   "cell_type": "code",
   "execution_count": 7,
   "metadata": {},
   "outputs": [
    {
     "data": {
      "text/plain": [
       "(26712, 6678)"
      ]
     },
     "execution_count": 7,
     "metadata": {},
     "output_type": "execute_result"
    }
   ],
   "source": [
    "kf = KFold(n_splits=5, shuffle=True, random_state=42)\n",
    "train_index, val_index = [],[]\n",
    "for i, (train_index, val_index) in enumerate(kf.split(X=df,y=df['label'])):\n",
    "    if i == 0:\n",
    "        break\n",
    "len(train_index), len(val_index)"
   ]
  },
  {
   "cell_type": "code",
   "execution_count": 8,
   "metadata": {},
   "outputs": [
    {
     "data": {
      "text/plain": [
       "((26712, 7), (6678, 7))"
      ]
     },
     "execution_count": 8,
     "metadata": {},
     "output_type": "execute_result"
    }
   ],
   "source": [
    "train_df = df.iloc[train_index,:]\n",
    "val_df = df.iloc[val_index,:]\n",
    "train_df.shape, val_df.shape"
   ]
  },
  {
   "cell_type": "code",
   "execution_count": 9,
   "metadata": {},
   "outputs": [],
   "source": [
    "val_df_except_aug = val_df[val_df['증강 여부']==False]\n",
    "val_df_aug = val_df[val_df['증강 여부']==True]"
   ]
  },
  {
   "cell_type": "code",
   "execution_count": 10,
   "metadata": {},
   "outputs": [],
   "source": [
    "val_vc = val_df_aug['label'].value_counts()"
   ]
  },
  {
   "cell_type": "code",
   "execution_count": 11,
   "metadata": {},
   "outputs": [],
   "source": [
    "train_temp = pd.DataFrame()"
   ]
  },
  {
   "cell_type": "code",
   "execution_count": 12,
   "metadata": {},
   "outputs": [
    {
     "name": "stdout",
     "output_type": "stream",
     "text": [
      "per:place_of_birth 28\n",
      "per:other_family 25\n",
      "per:place_of_residence 21\n",
      "per:children 21\n",
      "per:product 21\n",
      "per:siblings 17\n",
      "org:founded_by 15\n",
      "org:dissolved 12\n",
      "per:religion 8\n",
      "per:place_of_death 7\n",
      "org:political/religious_affiliation 7\n",
      "per:schools_attended 5\n",
      "org:number_of_employees/members 2\n"
     ]
    },
    {
     "data": {
      "text/plain": [
       "((189, 7), (189, 7))"
      ]
     },
     "execution_count": 12,
     "metadata": {},
     "output_type": "execute_result"
    }
   ],
   "source": [
    "for label, count in val_vc.items():\n",
    "    print(label, count) \n",
    "    temp = train_df[(train_df['label']==label)&(train_df['증강 여부']==False)].head(count)\n",
    "    train_temp = pd.concat([train_temp,temp])\n",
    "    train_df = train_df.drop(temp.index)\n",
    "train_temp.shape, val_df_aug.shape"
   ]
  },
  {
   "cell_type": "code",
   "execution_count": 13,
   "metadata": {},
   "outputs": [
    {
     "data": {
      "text/plain": [
       "((26712, 7), (6678, 7))"
      ]
     },
     "execution_count": 13,
     "metadata": {},
     "output_type": "execute_result"
    }
   ],
   "source": [
    "train_df = pd.concat([train_df,val_df_aug])\n",
    "val_df = pd.concat([val_df_except_aug,train_temp])\n",
    "train_df.shape, val_df.shape"
   ]
  },
  {
   "cell_type": "code",
   "execution_count": 14,
   "metadata": {},
   "outputs": [],
   "source": [
    "train_df = train_df.iloc[:,:-1]\n",
    "val_df = val_df.iloc[:,:-1]"
   ]
  },
  {
   "cell_type": "code",
   "execution_count": null,
   "metadata": {},
   "outputs": [],
   "source": [
    "train_df.to_csv(\"/data/ephemeral/home/level2_klue/KSY/data/train_split2.csv\",index=False)\n",
    "val_df.to_csv(\"/data/ephemeral/home/level2_klue/KSY/data/validation_split2.csv\",index=False)"
   ]
  }
 ],
 "metadata": {
  "kernelspec": {
   "display_name": "base",
   "language": "python",
   "name": "python3"
  },
  "language_info": {
   "codemirror_mode": {
    "name": "ipython",
    "version": 3
   },
   "file_extension": ".py",
   "mimetype": "text/x-python",
   "name": "python",
   "nbconvert_exporter": "python",
   "pygments_lexer": "ipython3",
   "version": "3.8.5"
  }
 },
 "nbformat": 4,
 "nbformat_minor": 2
}
